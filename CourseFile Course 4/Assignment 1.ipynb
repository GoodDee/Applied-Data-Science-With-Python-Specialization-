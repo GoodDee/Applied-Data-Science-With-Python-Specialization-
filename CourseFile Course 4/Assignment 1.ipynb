{
 "cells": [
  {
   "cell_type": "markdown",
   "metadata": {},
   "source": [
    "---\n",
    "\n",
    "_You are currently looking at **version 1.1** of this notebook. To download notebooks and datafiles, as well as get help on Jupyter notebooks in the Coursera platform, visit the [Jupyter Notebook FAQ](https://www.coursera.org/learn/python-text-mining/resources/d9pwm) course resource._\n",
    "\n",
    "---"
   ]
  },
  {
   "cell_type": "markdown",
   "metadata": {},
   "source": [
    "# Assignment 1\n",
    "\n",
    "In this assignment, you'll be working with messy medical data and using regex to extract relevant infromation from the data. \n",
    "\n",
    "Each line of the `dates.txt` file corresponds to a medical note. Each note has a date that needs to be extracted, but each date is encoded in one of many formats.\n",
    "\n",
    "The goal of this assignment is to correctly identify all of the different date variants encoded in this dataset and to properly normalize and sort the dates. \n",
    "\n",
    "Here is a list of some of the variants you might encounter in this dataset:\n",
    "* 04/20/2009; 04/20/09; 4/20/09; 4/3/09\n",
    "* Mar-20-2009; Mar 20, 2009; March 20, 2009;  Mar. 20, 2009; Mar 20 2009;\n",
    "* 20 Mar 2009; 20 March 2009; 20 Mar. 2009; 20 March, 2009\n",
    "* Mar 20th, 2009; Mar 21st, 2009; Mar 22nd, 2009\n",
    "* Feb 2009; Sep 2009; Oct 2010\n",
    "* 6/2008; 12/2009\n",
    "* 2009; 2010\n",
    "\n",
    "Once you have extracted these date patterns from the text, the next step is to sort them in ascending chronological order accoring to the following rules:\n",
    "* Assume all dates in xx/xx/xx format are mm/dd/yy\n",
    "* Assume all dates where year is encoded in only two digits are years from the 1900's (e.g. 1/5/89 is January 5th, 1989)\n",
    "* If the day is missing (e.g. 9/2009), assume it is the first day of the month (e.g. September 1, 2009).\n",
    "* If the month is missing (e.g. 2010), assume it is the first of January of that year (e.g. January 1, 2010).\n",
    "* Watch out for potential typos as this is a raw, real-life derived dataset.\n",
    "\n",
    "With these rules in mind, find the correct date in each note and return a pandas Series in chronological order of the original Series' indices.\n",
    "\n",
    "For example if the original series was this:\n",
    "\n",
    "    0    1999\n",
    "    1    2010\n",
    "    2    1978\n",
    "    3    2015\n",
    "    4    1985\n",
    "\n",
    "Your function should return this:\n",
    "\n",
    "    0    2\n",
    "    1    4\n",
    "    2    0\n",
    "    3    1\n",
    "    4    3\n",
    "\n",
    "Your score will be calculated using [Kendall's tau](https://en.wikipedia.org/wiki/Kendall_rank_correlation_coefficient), a correlation measure for ordinal data.\n",
    "\n",
    "*This function should return a Series of length 500 and dtype int.*"
   ]
  },
  {
   "cell_type": "code",
   "execution_count": 69,
   "metadata": {},
   "outputs": [
    {
     "data": {
      "text/plain": [
       "0          03/25/93 Total time of visit (in minutes):\\n\n",
       "1                        6/18/85 Primary Care Doctor:\\n\n",
       "2     sshe plans to move as of 7/8/71 In-Home Servic...\n",
       "3                 7 on 9/27/75 Audit C Score Current:\\n\n",
       "4     2/6/96 sleep studyPain Treatment Pain Level (N...\n",
       "5                     .Per 7/06/79 Movement D/O note:\\n\n",
       "6     4, 5/18/78 Patient's thoughts about current su...\n",
       "7     10/24/89 CPT Code: 90801 - Psychiatric Diagnos...\n",
       "8                          3/7/86 SOS-10 Total Score:\\n\n",
       "9              (4/10/71)Score-1Audit C Score Current:\\n\n",
       "10    (5/11/85) Crt-1.96, BUN-26; AST/ALT-16/22; WBC...\n",
       "11                        4/09/75 SOS-10 Total Score:\\n\n",
       "12    8/01/98 Communication with referring physician...\n",
       "13    1/26/72 Communication with referring physician...\n",
       "14    5/24/1990 CPT Code: 90792: With medical servic...\n",
       "15    1/25/2011 CPT Code: 90792: With medical servic...\n",
       "16          4/12/82 Total time of visit (in minutes):\\n\n",
       "17         1; 10/13/1976 Audit C Score, Highest/Date:\\n\n",
       "18                  4, 4/24/98 Relevant Drug History:\\n\n",
       "19    ) 59 yo unemployed w referred by Urgent Care f...\n",
       "dtype: object"
      ]
     },
     "execution_count": 69,
     "metadata": {},
     "output_type": "execute_result"
    }
   ],
   "source": [
    "import pandas as pd\n",
    "\n",
    "doc = []\n",
    "with open('dates.txt') as file:\n",
    "    for line in file:\n",
    "        doc.append(line)\n",
    "\n",
    "df = pd.Series(doc)\n",
    "df.head(20)"
   ]
  },
  {
   "cell_type": "code",
   "execution_count": 97,
   "metadata": {
    "collapsed": true
   },
   "outputs": [],
   "source": [
    "month_dict = {\"jan\": 1, \"feb\": 2, \"mar\": 3, \"apr\": 4, \"may\": 5, \"jun\": 6, \"jul\": 7, \"aug\": 8, \"sep\": 9, \"oct\": 10, \"nov\": 11, \"dec\": 12}\n",
    "def month_sub(month):\n",
    "    month_ab = month[:3].lower()\n",
    "    if month_ab in month_dict:\n",
    "        return month_dict[month_ab]\n",
    "    return -1\n",
    "    "
   ]
  },
  {
   "cell_type": "code",
   "execution_count": 129,
   "metadata": {
    "collapsed": true
   },
   "outputs": [],
   "source": [
    "import re\n",
    "def day_parse(x):\n",
    "    pattern1 = \"(?P<month>[\\d]{1,2})[\\/\\-](?P<day>[\\d]{1,2})[\\/\\-](?P<year>[\\d]{2,4})\"#04/20/2009; 04/20/09; 4/20/09; 4/3/09\n",
    "    pattern2 = \"(?P<month>[A-Z][a-z]+)[\\s\\/.\\-]+(?P<day>[\\d]{1,2})[\\-\\s,]+(?P<year>[\\d]{2,4})\" #Mar-20-2009; Mar 20, 2009; March 20, 2009; Mar 20 2009; Mar. 20, 2009; \n",
    "    pattern3 = \"(?P<day>[\\d]{1,2})[\\-\\s]+(?P<month>[A-Z][a-z]+)[\\-\\s\\/.,]+(?P<year>[\\d]{2,4})\" #20 Mar 2009; 20 March 2009; 20 Mar. 2009; 20 March, 2009\n",
    "    pattern4 = \"(?P<month>[A-Z][a-z]+)[\\.\\-\\s]+(?P<day>[\\d]{1,2})[a-z]{2}[\\-\\s,]+(?P<year>[\\d]{2,4})\" #Mar 20th, 2009; Mar 21st, 2009; Mar 22nd, 2009\n",
    "    pattern5 = \"(?P<day>[\\d]{1,2})[a-z]{2}[\\-\\s,]+(?P<month>[A-Z][a-z]+)[.\\-\\s]+(?P<year>[\\d]{2,4})\"\n",
    "    \n",
    "    day, month, year = -1, -1, -1\n",
    "    \n",
    "    list1 = re.findall(pattern1, x)\n",
    "    if len(list1) > 0:\n",
    "        dates = list1[0]\n",
    "        day, month, year = dates[1], dates[0], dates[2]\n",
    "    \n",
    "    list2 = re.findall(pattern2, x)\n",
    "    if len(list2) > 0:\n",
    "        for dates in list2:\n",
    "            day, month, year = dates[1], month_sub(dates[0]), dates[2]\n",
    "            if month != -1:\n",
    "                break\n",
    "    \n",
    "    list3 = re.findall(pattern3, x)\n",
    "    if len(list3) > 0:\n",
    "        for dates in list3:\n",
    "            day, month, year = dates[0], month_sub(dates[1]), dates[2]\n",
    "            if month != -1:\n",
    "                break\n",
    "    \n",
    "    list4 = re.findall(pattern4, x)\n",
    "    if len(list4) > 0:\n",
    "        for dates in list4:\n",
    "            day, month, year = dates[1], month_sub(dates[0]), dates[2]\n",
    "            if month != -1:\n",
    "                break\n",
    "    \n",
    "    list5 = re.findall(pattern5, x)\n",
    "    if len(list5) > 0:\n",
    "        for dates in list5:\n",
    "            day, month, year = dates[0], month_sub(dates[1]), dates[2]\n",
    "            if month != -1:\n",
    "                break\n",
    "    \n",
    "    if month != -1:\n",
    "        if len(year) == 2:\n",
    "            return(int(day), int(month), int(\"19\"+year))\n",
    "        else:\n",
    "            return(int(day), int(month), int(year))\n",
    "    \n",
    "    return (-1, -1, -1)\n"
   ]
  },
  {
   "cell_type": "code",
   "execution_count": 128,
   "metadata": {
    "collapsed": true
   },
   "outputs": [],
   "source": [
    "def month_parse(x):\n",
    "    \n",
    "    pattern1 = \"(?P<month>[A-Z][a-z]+)[\\s\\/.,]+(?P<year>[\\d]{2,4})\"\n",
    "    pattern2 = \"(?P<month>[\\d]{1,2})[\\/](?P<year>[\\d]{2,4})\"\n",
    "    \n",
    "    day, month, year = -1, -1, -1\n",
    "    \n",
    "    list1 = re.findall(pattern1, x)\n",
    "    if len(list1) > 0:\n",
    "        for dates in list1:\n",
    "            day, month, year = \"1\", month_sub(dates[0]), dates[1]\n",
    "            if month != -1:\n",
    "                break\n",
    "    \n",
    "    list2 = re.findall(pattern2, x)\n",
    "    if len(list2) > 0:\n",
    "        dates = list2[0]\n",
    "        day, month, year = \"1\", dates[0], dates[1]\n",
    "        \n",
    "    if month != -1:\n",
    "        if len(year) == 2:\n",
    "            return(int(day), int(month), int(\"19\"+year))\n",
    "        else:\n",
    "            return(int(day), int(month), int(year))    \n",
    "        \n",
    "    return (-1, -1, -1)   \n"
   ]
  },
  {
   "cell_type": "code",
   "execution_count": 167,
   "metadata": {
    "collapsed": true
   },
   "outputs": [],
   "source": [
    "def year_parse(x):\n",
    "    \n",
    "    pattern1 = \"(?P<year>[\\d]{4})\"\n",
    "    pattern2 = \"(?P<year>[\\d]{2})\"\n",
    "    day, month, year = -1, -1, -1\n",
    "    list1 = re.findall(pattern1, x)\n",
    "    if len(list1) > 0:\n",
    "        dates = list1[0]\n",
    "        day, month, year = \"1\", \"1\", dates\n",
    "        return(int(day), int(month), int(year))  \n",
    "    \n",
    "    list2 = re.findall(pattern2, x)\n",
    "    \n",
    "    if len(list2) > 0:\n",
    "        dates = list2[0]\n",
    "        day, month, year = \"1\", \"1\", dates\n",
    "        return(int(day), int(month), int(\"19\"+year))\n",
    "        \n",
    "    return (day, month, year) \n"
   ]
  },
  {
   "cell_type": "code",
   "execution_count": 73,
   "metadata": {
    "collapsed": true
   },
   "outputs": [],
   "source": [
    "def none_parse(x):\n",
    "    return (0, 0, 0)"
   ]
  },
  {
   "cell_type": "code",
   "execution_count": 169,
   "metadata": {},
   "outputs": [
    {
     "name": "stdout",
     "output_type": "stream",
     "text": [
      "0        9\n",
      "1       84\n",
      "2        2\n",
      "3       53\n",
      "4       28\n",
      "5      474\n",
      "6      153\n",
      "7       13\n",
      "8      129\n",
      "9       98\n",
      "10     111\n",
      "11     225\n",
      "12      31\n",
      "13     171\n",
      "14     191\n",
      "15     486\n",
      "16     335\n",
      "17     415\n",
      "18      36\n",
      "19     323\n",
      "20     405\n",
      "21     422\n",
      "22     375\n",
      "23     380\n",
      "24     345\n",
      "25      57\n",
      "26     481\n",
      "27     436\n",
      "28     104\n",
      "29     299\n",
      "      ... \n",
      "470    220\n",
      "471    208\n",
      "472    243\n",
      "473    139\n",
      "474    320\n",
      "475    383\n",
      "476    244\n",
      "477    286\n",
      "478    480\n",
      "479    431\n",
      "480    279\n",
      "481    198\n",
      "482    381\n",
      "483    463\n",
      "484    366\n",
      "485    255\n",
      "486    439\n",
      "487    401\n",
      "488    475\n",
      "489    257\n",
      "490    152\n",
      "491    235\n",
      "492    464\n",
      "493    253\n",
      "494    231\n",
      "495    427\n",
      "496    141\n",
      "497    186\n",
      "498    161\n",
      "499    413\n",
      "Length: 500, dtype: int64\n"
     ]
    }
   ],
   "source": [
    "import re\n",
    "import datetime\n",
    "def date_sorter():\n",
    "    # Your code here\n",
    "    num_rows = df.shape[0]\n",
    "    return_list = []\n",
    "    func_list = [day_parse, month_parse, year_parse, none_parse]\n",
    "    \n",
    "    for i in range(num_rows):\n",
    "        x = df[i]\n",
    "        for func in func_list:\n",
    "            date = func(x)           \n",
    "            if date != (-1, -1, -1):\n",
    "                return_list.append((i, date))\n",
    "                break\n",
    "    return_list = sorted(return_list, key = lambda x: (x[1][2], x[1][1], x[1][0]))\n",
    "    \n",
    "    return_idx = [x[0] for x in return_list]\n",
    "    \n",
    "    return pd.Series(return_idx)\n",
    "                \n",
    "        \n",
    "\n",
    "print(date_sorter())"
   ]
  },
  {
   "cell_type": "code",
   "execution_count": 117,
   "metadata": {},
   "outputs": [
    {
     "name": "stdout",
     "output_type": "stream",
     "text": [
      ";Trazodone 50-100 mg QHS, had also been on this long-time when it was d/ced in July 1995.\n",
      "\n"
     ]
    }
   ],
   "source": [
    "print(df[248])"
   ]
  },
  {
   "cell_type": "code",
   "execution_count": 103,
   "metadata": {},
   "outputs": [
    {
     "data": {
      "text/plain": [
       "(1, -1, 1980)"
      ]
     },
     "execution_count": 103,
     "metadata": {},
     "output_type": "execute_result"
    }
   ],
   "source": [
    "x = \"In 1980, patient was living in Naples and described being upset by the amount of noise generated by the neighbor living under his apartment.  He noted the woman was a heroin user and when she refused to quiet down, he walked into her apartment and trashed it.  He was arrested for breaking and entering and destruction of property and was placed on probation.\"\n",
    "month_parse(x)"
   ]
  },
  {
   "cell_type": "code",
   "execution_count": 127,
   "metadata": {},
   "outputs": [
    {
     "data": {
      "text/plain": [
       "(1, 50, 100)"
      ]
     },
     "execution_count": 127,
     "metadata": {},
     "output_type": "execute_result"
    }
   ],
   "source": [
    "month_parse(df[248])"
   ]
  },
  {
   "cell_type": "code",
   "execution_count": 174,
   "metadata": {},
   "outputs": [
    {
     "data": {
      "text/plain": [
       "(1, 5, 2016)"
      ]
     },
     "execution_count": 174,
     "metadata": {},
     "output_type": "execute_result"
    }
   ],
   "source": [
    "month_parse(df[231])"
   ]
  },
  {
   "cell_type": "code",
   "execution_count": null,
   "metadata": {
    "collapsed": true
   },
   "outputs": [],
   "source": []
  }
 ],
 "metadata": {
  "coursera": {
   "course_slug": "python-text-mining",
   "graded_item_id": "LvcWI",
   "launcher_item_id": "krne9",
   "part_id": "Mkp1I"
  },
  "kernelspec": {
   "display_name": "Python 3",
   "language": "python",
   "name": "python3"
  },
  "language_info": {
   "codemirror_mode": {
    "name": "ipython",
    "version": 3
   },
   "file_extension": ".py",
   "mimetype": "text/x-python",
   "name": "python",
   "nbconvert_exporter": "python",
   "pygments_lexer": "ipython3",
   "version": "3.6.2"
  }
 },
 "nbformat": 4,
 "nbformat_minor": 2
}
