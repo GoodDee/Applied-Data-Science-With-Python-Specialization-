{
  "nbformat": 4,
  "nbformat_minor": 0,
  "metadata": {
    "kernelspec": {
      "display_name": "Python 3",
      "language": "python",
      "name": "python3"
    },
    "language_info": {
      "codemirror_mode": {
        "name": "ipython",
        "version": 3
      },
      "file_extension": ".py",
      "mimetype": "text/x-python",
      "name": "python",
      "nbconvert_exporter": "python",
      "pygments_lexer": "ipython3",
      "version": "3.6.2"
    },
    "colab": {
      "name": "Assignment4.ipynb",
      "provenance": [],
      "toc_visible": true
    }
  },
  "cells": [
    {
      "cell_type": "markdown",
      "metadata": {
        "id": "gAzvnpl3DNcB"
      },
      "source": [
        "# Assignment 4\n",
        "\n",
        "Before working on this assignment please read these instructions fully. In the submission area, you will notice that you can click the link to **Preview the Grading** for each step of the assignment. This is the criteria that will be used for peer grading. Please familiarize yourself with the criteria before beginning the assignment.\n",
        "\n",
        "This assignment requires that you to find **at least** two datasets on the web which are related, and that you visualize these datasets to answer a question with the broad topic of **sports or athletics** (see below) for the region of **Ann Arbor, Michigan, United States**, or **United States** more broadly.\n",
        "\n",
        "You can merge these datasets with data from different regions if you like! For instance, you might want to compare **Ann Arbor, Michigan, United States** to Ann Arbor, USA. In that case at least one source file must be about **Ann Arbor, Michigan, United States**.\n",
        "\n",
        "You are welcome to choose datasets at your discretion, but keep in mind **they will be shared with your peers**, so choose appropriate datasets. Sensitive, confidential, illicit, and proprietary materials are not good choices for datasets for this assignment. You are welcome to upload datasets of your own as well, and link to them using a third party repository such as github, bitbucket, pastebin, etc. Please be aware of the Coursera terms of service with respect to intellectual property.\n",
        "\n",
        "Also, you are welcome to preserve data in its original language, but for the purposes of grading you should provide english translations. You are welcome to provide multiple visuals in different languages if you would like!\n",
        "\n",
        "As this assignment is for the whole course, you must incorporate principles discussed in the first week, such as having as high data-ink ratio (Tufte) and aligning with Cairo’s principles of truth, beauty, function, and insight.\n",
        "\n",
        "Here are the assignment instructions:\n",
        "\n",
        " * State the region and the domain category that your data sets are about (e.g., **Ann Arbor, Michigan, United States** and **sports or athletics**).\n",
        " * You must state a question about the domain category and region that you identified as being interesting.\n",
        " * You must provide at least two links to available datasets. These could be links to files such as CSV or Excel files, or links to websites which might have data in tabular form, such as Wikipedia pages.\n",
        " * You must upload an image which addresses the research question you stated. In addition to addressing the question, this visual should follow Cairo's principles of truthfulness, functionality, beauty, and insightfulness.\n",
        " * You must contribute a short (1-2 paragraph) written justification of how your visualization addresses your stated research question.\n",
        "\n",
        "What do we mean by **sports or athletics**?  For this category we are interested in sporting events or athletics broadly, please feel free to creatively interpret the category when building your research question!\n",
        "\n",
        "## Tips\n",
        "* Wikipedia is an excellent source of data, and I strongly encourage you to explore it for new data sources.\n",
        "* Many governments run open data initiatives at the city, region, and country levels, and these are wonderful resources for localized data sources.\n",
        "* Several international agencies, such as the [United Nations](http://data.un.org/), the [World Bank](http://data.worldbank.org/), the [Global Open Data Index](http://index.okfn.org/place/) are other great places to look for data.\n",
        "* This assignment requires you to convert and clean datafiles. Check out the discussion forums for tips on how to do this from various sources, and share your successes with your fellow students!\n",
        "\n",
        "## Example\n",
        "Looking for an example? Here's what our course assistant put together for the **Ann Arbor, MI, USA** area using **sports and athletics** as the topic. [Example Solution File](./readonly/Assignment4_example.pdf)"
      ]
    },
    {
      "cell_type": "markdown",
      "metadata": {
        "collapsed": true,
        "id": "dDcR-qBEDNcG"
      },
      "source": [
        "# 1 Region and Domain\n",
        "## State the region and the domain category that your dataset is about.\n",
        "\n",
        "Bangkok, Thailand\n",
        "Economics and Finance\n"
      ]
    },
    {
      "cell_type": "markdown",
      "metadata": {
        "collapsed": true,
        "id": "u1b8oKSFDNcI"
      },
      "source": [
        "# 2 Research Question\n",
        "## You must state a question about the domain category and region that you identified as being interesting.\n",
        "Does Thailand international reserve respond to exchange rate movements? Does exchange rate respond to the BOT policy rate?"
      ]
    },
    {
      "cell_type": "markdown",
      "metadata": {
        "id": "Z7OP0-SNWSJz"
      },
      "source": [
        "# 3 Links\n",
        "## You must provide at least two links to publicly accessible datasets.  These could be links tofiles such as CSV or Excel files, or links to websites which might have data in tabular form,such as Wikipedia pages  \n",
        "\n",
        "https://tide.pier.or.th/chart/FMRTINTM00001  \n",
        "https://tide.pier.or.th/chart/EIMACROY00244  \n",
        "https://tide.pier.or.th/chart/EINEERM00071  \n"
      ]
    },
    {
      "cell_type": "code",
      "metadata": {
        "id": "QF2BNk4oDNcI"
      },
      "source": [
        "import pandas as pd\n",
        "df1 = pd.read_csv(\"assets/Data1.csv\")\n",
        "df2 = pd.read_csv(\"assets/Data2.csv\")"
      ],
      "execution_count": null,
      "outputs": []
    },
    {
      "cell_type": "code",
      "metadata": {
        "id": "g9cOCWIjFkTZ",
        "outputId": "5e36d0e7-8549-473c-8b08-b09c5b46c59d",
        "colab": {
          "base_uri": "https://localhost:8080/",
          "height": 197
        }
      },
      "source": [
        "df1.head()"
      ],
      "execution_count": null,
      "outputs": [
        {
          "output_type": "execute_result",
          "data": {
            "text/html": [
              "<div>\n",
              "<style scoped>\n",
              "    .dataframe tbody tr th:only-of-type {\n",
              "        vertical-align: middle;\n",
              "    }\n",
              "\n",
              "    .dataframe tbody tr th {\n",
              "        vertical-align: top;\n",
              "    }\n",
              "\n",
              "    .dataframe thead th {\n",
              "        text-align: right;\n",
              "    }\n",
              "</style>\n",
              "<table border=\"1\" class=\"dataframe\">\n",
              "  <thead>\n",
              "    <tr style=\"text-align: right;\">\n",
              "      <th></th>\n",
              "      <th>DATE</th>\n",
              "      <th>POL_RATE</th>\n",
              "      <th>NEER</th>\n",
              "    </tr>\n",
              "  </thead>\n",
              "  <tbody>\n",
              "    <tr>\n",
              "      <th>0</th>\n",
              "      <td>2018-01</td>\n",
              "      <td>1.5</td>\n",
              "      <td>114.14</td>\n",
              "    </tr>\n",
              "    <tr>\n",
              "      <th>1</th>\n",
              "      <td>2018-02</td>\n",
              "      <td>1.5</td>\n",
              "      <td>114.75</td>\n",
              "    </tr>\n",
              "    <tr>\n",
              "      <th>2</th>\n",
              "      <td>2018-03</td>\n",
              "      <td>1.5</td>\n",
              "      <td>115.45</td>\n",
              "    </tr>\n",
              "    <tr>\n",
              "      <th>3</th>\n",
              "      <td>2018-04</td>\n",
              "      <td>1.5</td>\n",
              "      <td>115.84</td>\n",
              "    </tr>\n",
              "    <tr>\n",
              "      <th>4</th>\n",
              "      <td>2018-05</td>\n",
              "      <td>1.5</td>\n",
              "      <td>115.37</td>\n",
              "    </tr>\n",
              "  </tbody>\n",
              "</table>\n",
              "</div>"
            ],
            "text/plain": [
              "      DATE  POL_RATE    NEER\n",
              "0  2018-01       1.5  114.14\n",
              "1  2018-02       1.5  114.75\n",
              "2  2018-03       1.5  115.45\n",
              "3  2018-04       1.5  115.84\n",
              "4  2018-05       1.5  115.37"
            ]
          },
          "metadata": {
            "tags": []
          },
          "execution_count": 3
        }
      ]
    },
    {
      "cell_type": "code",
      "metadata": {
        "id": "XDrL-Kz4Fmzf",
        "outputId": "392276e0-2c1f-4ea9-9ef8-5dcce139c841",
        "colab": {
          "base_uri": "https://localhost:8080/",
          "height": 197
        }
      },
      "source": [
        "df2.head()"
      ],
      "execution_count": null,
      "outputs": [
        {
          "output_type": "execute_result",
          "data": {
            "text/html": [
              "<div>\n",
              "<style scoped>\n",
              "    .dataframe tbody tr th:only-of-type {\n",
              "        vertical-align: middle;\n",
              "    }\n",
              "\n",
              "    .dataframe tbody tr th {\n",
              "        vertical-align: top;\n",
              "    }\n",
              "\n",
              "    .dataframe thead th {\n",
              "        text-align: right;\n",
              "    }\n",
              "</style>\n",
              "<table border=\"1\" class=\"dataframe\">\n",
              "  <thead>\n",
              "    <tr style=\"text-align: right;\">\n",
              "      <th></th>\n",
              "      <th>Date</th>\n",
              "      <th>Int_Reserve</th>\n",
              "    </tr>\n",
              "  </thead>\n",
              "  <tbody>\n",
              "    <tr>\n",
              "      <th>0</th>\n",
              "      <td>1/5/2018</td>\n",
              "      <td>195410.20</td>\n",
              "    </tr>\n",
              "    <tr>\n",
              "      <th>1</th>\n",
              "      <td>1/12/2018</td>\n",
              "      <td>197521.51</td>\n",
              "    </tr>\n",
              "    <tr>\n",
              "      <th>2</th>\n",
              "      <td>1/19/2018</td>\n",
              "      <td>200645.16</td>\n",
              "    </tr>\n",
              "    <tr>\n",
              "      <th>3</th>\n",
              "      <td>1/26/2018</td>\n",
              "      <td>204989.55</td>\n",
              "    </tr>\n",
              "    <tr>\n",
              "      <th>4</th>\n",
              "      <td>2/2/2018</td>\n",
              "      <td>205710.16</td>\n",
              "    </tr>\n",
              "  </tbody>\n",
              "</table>\n",
              "</div>"
            ],
            "text/plain": [
              "        Date  Int_Reserve\n",
              "0   1/5/2018    195410.20\n",
              "1  1/12/2018    197521.51\n",
              "2  1/19/2018    200645.16\n",
              "3  1/26/2018    204989.55\n",
              "4   2/2/2018    205710.16"
            ]
          },
          "metadata": {
            "tags": []
          },
          "execution_count": 4
        }
      ]
    },
    {
      "cell_type": "code",
      "metadata": {
        "id": "SHLREj92GEYP"
      },
      "source": [
        "df2['Date'] = pd.to_datetime(df2['Date'])\n",
        "df1['DATE'] = pd.to_datetime(df1['DATE'])"
      ],
      "execution_count": null,
      "outputs": []
    },
    {
      "cell_type": "code",
      "metadata": {
        "id": "KuguM9UqGJUn",
        "outputId": "7e79585b-ca5c-4f21-f3fa-d5a2de4d6011",
        "colab": {
          "base_uri": "https://localhost:8080/",
          "height": 197
        }
      },
      "source": [
        "int_reserve = df2.groupby([df2['Date'].dt.year, df2['Date'].dt.month]).tail(1)\n",
        "int_reserve.head(5)"
      ],
      "execution_count": null,
      "outputs": [
        {
          "output_type": "execute_result",
          "data": {
            "text/html": [
              "<div>\n",
              "<style scoped>\n",
              "    .dataframe tbody tr th:only-of-type {\n",
              "        vertical-align: middle;\n",
              "    }\n",
              "\n",
              "    .dataframe tbody tr th {\n",
              "        vertical-align: top;\n",
              "    }\n",
              "\n",
              "    .dataframe thead th {\n",
              "        text-align: right;\n",
              "    }\n",
              "</style>\n",
              "<table border=\"1\" class=\"dataframe\">\n",
              "  <thead>\n",
              "    <tr style=\"text-align: right;\">\n",
              "      <th></th>\n",
              "      <th>Date</th>\n",
              "      <th>Int_Reserve</th>\n",
              "    </tr>\n",
              "  </thead>\n",
              "  <tbody>\n",
              "    <tr>\n",
              "      <th>3</th>\n",
              "      <td>2018-01-26</td>\n",
              "      <td>204989.55</td>\n",
              "    </tr>\n",
              "    <tr>\n",
              "      <th>7</th>\n",
              "      <td>2018-02-23</td>\n",
              "      <td>204598.58</td>\n",
              "    </tr>\n",
              "    <tr>\n",
              "      <th>12</th>\n",
              "      <td>2018-03-30</td>\n",
              "      <td>206948.38</td>\n",
              "    </tr>\n",
              "    <tr>\n",
              "      <th>16</th>\n",
              "      <td>2018-04-27</td>\n",
              "      <td>206728.17</td>\n",
              "    </tr>\n",
              "    <tr>\n",
              "      <th>20</th>\n",
              "      <td>2018-05-25</td>\n",
              "      <td>204012.15</td>\n",
              "    </tr>\n",
              "  </tbody>\n",
              "</table>\n",
              "</div>"
            ],
            "text/plain": [
              "         Date  Int_Reserve\n",
              "3  2018-01-26    204989.55\n",
              "7  2018-02-23    204598.58\n",
              "12 2018-03-30    206948.38\n",
              "16 2018-04-27    206728.17\n",
              "20 2018-05-25    204012.15"
            ]
          },
          "metadata": {
            "tags": []
          },
          "execution_count": 10
        }
      ]
    },
    {
      "cell_type": "code",
      "metadata": {
        "id": "LkulPc4IG3_Y"
      },
      "source": [
        "df1['int_reserve'] = list(int_reserve['Int_Reserve'])[:-1]"
      ],
      "execution_count": null,
      "outputs": []
    },
    {
      "cell_type": "code",
      "metadata": {
        "id": "RsmOsPQ1HNp4",
        "outputId": "77b957ab-77bf-4f35-c97e-5468aae5a371",
        "colab": {
          "base_uri": "https://localhost:8080/",
          "height": 197
        }
      },
      "source": [
        "df1.head()"
      ],
      "execution_count": null,
      "outputs": [
        {
          "output_type": "execute_result",
          "data": {
            "text/html": [
              "<div>\n",
              "<style scoped>\n",
              "    .dataframe tbody tr th:only-of-type {\n",
              "        vertical-align: middle;\n",
              "    }\n",
              "\n",
              "    .dataframe tbody tr th {\n",
              "        vertical-align: top;\n",
              "    }\n",
              "\n",
              "    .dataframe thead th {\n",
              "        text-align: right;\n",
              "    }\n",
              "</style>\n",
              "<table border=\"1\" class=\"dataframe\">\n",
              "  <thead>\n",
              "    <tr style=\"text-align: right;\">\n",
              "      <th></th>\n",
              "      <th>DATE</th>\n",
              "      <th>POL_RATE</th>\n",
              "      <th>NEER</th>\n",
              "      <th>int_reserve</th>\n",
              "    </tr>\n",
              "  </thead>\n",
              "  <tbody>\n",
              "    <tr>\n",
              "      <th>0</th>\n",
              "      <td>2018-01</td>\n",
              "      <td>1.5</td>\n",
              "      <td>114.14</td>\n",
              "      <td>204989.55</td>\n",
              "    </tr>\n",
              "    <tr>\n",
              "      <th>1</th>\n",
              "      <td>2018-02</td>\n",
              "      <td>1.5</td>\n",
              "      <td>114.75</td>\n",
              "      <td>204598.58</td>\n",
              "    </tr>\n",
              "    <tr>\n",
              "      <th>2</th>\n",
              "      <td>2018-03</td>\n",
              "      <td>1.5</td>\n",
              "      <td>115.45</td>\n",
              "      <td>206948.38</td>\n",
              "    </tr>\n",
              "    <tr>\n",
              "      <th>3</th>\n",
              "      <td>2018-04</td>\n",
              "      <td>1.5</td>\n",
              "      <td>115.84</td>\n",
              "      <td>206728.17</td>\n",
              "    </tr>\n",
              "    <tr>\n",
              "      <th>4</th>\n",
              "      <td>2018-05</td>\n",
              "      <td>1.5</td>\n",
              "      <td>115.37</td>\n",
              "      <td>204012.15</td>\n",
              "    </tr>\n",
              "  </tbody>\n",
              "</table>\n",
              "</div>"
            ],
            "text/plain": [
              "      DATE  POL_RATE    NEER  int_reserve\n",
              "0  2018-01       1.5  114.14    204989.55\n",
              "1  2018-02       1.5  114.75    204598.58\n",
              "2  2018-03       1.5  115.45    206948.38\n",
              "3  2018-04       1.5  115.84    206728.17\n",
              "4  2018-05       1.5  115.37    204012.15"
            ]
          },
          "metadata": {
            "tags": []
          },
          "execution_count": 19
        }
      ]
    },
    {
      "cell_type": "markdown",
      "metadata": {
        "id": "3YsxMWSfWrOR"
      },
      "source": [
        "# 4 Image\n",
        "##You must upload an image which addresses the research question you stated. In addition to ad-dressing the question, this visual should follow Cairo’s principles of truthfulness, functionality,beauty, and insightfulness."
      ]
    },
    {
      "cell_type": "code",
      "metadata": {
        "id": "6M3m1pPwHOpX"
      },
      "source": [
        "import matplotlib.pyplot as plt\n",
        "import seaborn as sns\n",
        "import matplotlib.dates as md\n",
        "import numpy as np\n",
        "import datetime as dt"
      ],
      "execution_count": null,
      "outputs": []
    },
    {
      "cell_type": "code",
      "metadata": {
        "id": "e24VQKqNH9bi",
        "outputId": "15a08a50-f90e-4f9b-f462-cfacc0fb833b",
        "colab": {
          "base_uri": "https://localhost:8080/",
          "height": 323
        }
      },
      "source": [
        "\n",
        "\n",
        "fig, ax = plt.subplots()\n",
        "line1 = sns.lineplot(x = df1['DATE'], y=df1['int_reserve'], color=\"g\", label = 'international reserve', legend = False)\n",
        "plt.twinx()\n",
        "line2 = sns.lineplot(x = df1[\"DATE\"], y=df1['NEER'], color = 'r', label = 'exchange rate NEER', legend = False)\n",
        "\n",
        "fig.legend()\n",
        "fig.autofmt_xdate()\n",
        "plt.axvline(dt.datetime(2018, 12, 31), color = \"grey\", linestyle = \"--\")\n",
        "plt.axvline(dt.datetime(2019, 12, 31), color = \"grey\", linestyle = \"--\")\n",
        "\n"
      ],
      "execution_count": null,
      "outputs": [
        {
          "output_type": "execute_result",
          "data": {
            "text/plain": [
              "<matplotlib.lines.Line2D at 0x7f9f10b68eb8>"
            ]
          },
          "metadata": {
            "tags": []
          },
          "execution_count": 105
        },
        {
          "output_type": "display_data",
          "data": {
            "image/png": "[encoded data removed]",
            "text/plain": [
              "<Figure size 432x288 with 2 Axes>"
            ]
          },
          "metadata": {
            "tags": [],
            "needs_background": "light"
          }
        }
      ]
    },
    {
      "cell_type": "code",
      "metadata": {
        "id": "UhcqzNwHIOno",
        "outputId": "8c96b2a4-9710-4a56-f658-010b65eba90c",
        "colab": {
          "base_uri": "https://localhost:8080/",
          "height": 323
        }
      },
      "source": [
        "fig = plt.figure()\n",
        "line1 = sns.lineplot(x = df1['DATE'], y=df1['POL_RATE'], color=\"b\", label = 'policy rate', legend = False)\n",
        "ax2 = plt.twinx()\n",
        "line2 = sns.lineplot(x = df1['DATE'], y = df1['NEER'], color = 'r', label = 'exchange rate NEER', legend = False)\n",
        "fig.legend()\n",
        "fig.autofmt_xdate()\n",
        "plt.axvline(dt.datetime(2018, 12, 31), color = \"grey\", linestyle = \"--\")\n",
        "plt.axvline(dt.datetime(2019, 12, 31), color = \"grey\", linestyle = \"--\")"
      ],
      "execution_count": null,
      "outputs": [
        {
          "output_type": "execute_result",
          "data": {
            "text/plain": [
              "<matplotlib.lines.Line2D at 0x7f9f10b09a90>"
            ]
          },
          "metadata": {
            "tags": []
          },
          "execution_count": 107
        },
        {
          "output_type": "display_data",
          "data": {
            "image/png": "[encoded data removed]",
            "text/plain": [
              "<Figure size 432x288 with 2 Axes>"
            ]
          },
          "metadata": {
            "tags": [],
            "needs_background": "light"
          }
        }
      ]
    },
    {
      "cell_type": "markdown",
      "metadata": {
        "id": "uI3yWoexW4Ob"
      },
      "source": [
        "# 5 Discussion\n",
        "## You must contribute a short (1-2 paragraph) written justification of how your visualizationaddresses your stated research question.  \n",
        "\n",
        "This visualization was concerned with answering the relationship between exchange rate measured by NEER and international reserve, and the relationship between BOT policy rate and exchange rate NEER. I have taken data from TIDE database provided by Bank of Thailand. NEER is the index of Thai Baht exchange rate weighted by trade value. The higher NEER is, the more Baht is appreciated. Policy rate is the reference rate set by Bank of Thailand. International reserve measures the value of reserves that BOT has collected over time.\n",
        "\n",
        "The plot indicates that NEER moves together with international reserve. BOT is always concerned about Baht stability. Therefore, they will buy dollars whenever Baht is appreciating and sell dollars vice versa. In addition, despite policy rate lowered by BOT in the last few years, exchange rate does not drop sharply. The reason is that Thai Baht is determined by major currency movement, such as dollars and yens. Hence, only policy rate drop could not influence currency movement that much"
      ]
    },
    {
      "cell_type": "code",
      "metadata": {
        "id": "xuIHei2yNcyB"
      },
      "source": [
        ""
      ],
      "execution_count": null,
      "outputs": []
    }
  ]
}